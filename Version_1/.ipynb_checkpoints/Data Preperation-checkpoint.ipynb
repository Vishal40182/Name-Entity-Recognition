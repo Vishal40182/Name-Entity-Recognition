{
 "cells": [
  {
   "cell_type": "code",
   "execution_count": 1,
   "id": "1841567c",
   "metadata": {},
   "outputs": [],
   "source": [
    "import numpy as np\n",
    "import pandas as pd\n",
    "import cv2\n",
    "import pytesseract as pt\n",
    "\n",
    "import os\n",
    "from glob import glob\n",
    "from tqdm import tqdm\n",
    "\n",
    "import warnings\n",
    "warnings.filterwarnings('ignore')"
   ]
  },
  {
   "cell_type": "code",
   "execution_count": 2,
   "id": "b43b2224",
   "metadata": {},
   "outputs": [],
   "source": [
    "imgPaths  = glob('./Selected/*jpeg')"
   ]
  },
  {
   "cell_type": "code",
   "execution_count": 16,
   "id": "74e802eb",
   "metadata": {},
   "outputs": [
    {
     "name": "stderr",
     "output_type": "stream",
     "text": [
      "BusinessCard: 100%|██████████████████████████████████████████████████████████████████| 293/293 [02:18<00:00,  2.11it/s]\n"
     ]
    }
   ],
   "source": [
    "allBusinessCard = pd.DataFrame(columns=['id','text'])\n",
    "\n",
    "for imgPath in tqdm(imgPaths,desc='BusinessCard'):\n",
    "                                        \n",
    "    #imgPath = imgPaths[0]\n",
    "    #print(imgPath)\n",
    "    _,filename = os.path.split(imgPath)\n",
    "    #print(filename)\n",
    "    #extract data and text\n",
    "    image = cv2.imread(imgPath)\n",
    "    data = pt.image_to_data(image)\n",
    "    dataList = list(map(lambda x: x.split('\\t'),data.split('\\n')))\n",
    "    df = pd.DataFrame(dataList[1:],columns=dataList[0])\n",
    "    df.dropna(inplace=True)\n",
    "    df['conf'] = df['conf'].astype(float)\n",
    "\n",
    "    useFulData = df.query('conf >= 30')\n",
    "\n",
    "    #Dataframe\n",
    "    businessCard = pd.DataFrame()\n",
    "    businessCard['text'] = useFulData['text']\n",
    "    businessCard['id'] = filename\n",
    "                                        \n",
    "    # concatenation\n",
    "    allBusinessCard = pd.concat((allBusinessCard,businessCard))\n"
   ]
  },
  {
   "cell_type": "code",
   "execution_count": 17,
   "id": "a2a2a4cc",
   "metadata": {
    "scrolled": true
   },
   "outputs": [],
   "source": [
    "allBusinessCard.to_csv('businessCard.csv', index=False)"
   ]
  }
 ],
 "metadata": {
  "kernelspec": {
   "display_name": "Python 3 (ipykernel)",
   "language": "python",
   "name": "python3"
  },
  "language_info": {
   "codemirror_mode": {
    "name": "ipython",
    "version": 3
   },
   "file_extension": ".py",
   "mimetype": "text/x-python",
   "name": "python",
   "nbconvert_exporter": "python",
   "pygments_lexer": "ipython3",
   "version": "3.9.13"
  }
 },
 "nbformat": 4,
 "nbformat_minor": 5
}
