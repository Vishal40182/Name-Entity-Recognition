{
 "cells": [
  {
   "cell_type": "code",
   "execution_count": 1,
   "id": "b187dbec",
   "metadata": {},
   "outputs": [],
   "source": [
    "import cv2\n",
    "import predictions as pred"
   ]
  },
  {
   "cell_type": "code",
   "execution_count": 2,
   "id": "18b4859f",
   "metadata": {},
   "outputs": [],
   "source": [
    "img = cv2.imread('./images/242.jpeg')\n",
    "\n",
    "cv2.namedWindow('original',cv2.WINDOW_NORMAL)\n",
    "cv2.imshow('original',img)\n",
    "cv2.waitKey(0)\n",
    "cv2.destroyAllWindows()"
   ]
  },
  {
   "cell_type": "code",
   "execution_count": 6,
   "id": "663154e1",
   "metadata": {},
   "outputs": [
    {
     "name": "stdout",
     "output_type": "stream",
     "text": [
      "Dr. T. S. Reddy Senior Consultant Traffic Transportation LEA Associates South Asia Pvt. Ltd. LEAdership in Consulting Engineers Planners engineering HL No 1-4-879/54/1A, Street No. 8, p lannin g Near Vijaya Bank, Lower Tank Bund, Gandhinagar, Hyderabad-500080 A.P. India solutions Tel 91-40-66747 122 / 66747135 . Mobile 91-91778 82230 Email tsr@lasaindia.com ————— limmappagari@ymait.com _ ALEA Group company Website - www.lasaindia.com\n",
      "{'NAME': ['Dr T S Reddy'], 'ORG': ['Lea Associates South Asia Pvt Ltd'], 'DES': ['Senior Consultant'], 'PHONE': ['91', '66747135', '9182230'], 'EMAIL': ['tsr@lasaindia.com', 'limmappagari@ymait.com'], 'WEB': ['www.lasaindia.com']}\n"
     ]
    }
   ],
   "source": [
    "img_results,entities = pred.getPredictions(img)\n",
    "\n",
    "print(entities)\n",
    "cv2.namedWindow('predicitons',cv2.WINDOW_NORMAL)\n",
    "cv2.imshow('predicitons',img_results)\n",
    "cv2.waitKey(0)\n",
    "cv2.destroyAllWindows()"
   ]
  }
 ],
 "metadata": {
  "kernelspec": {
   "display_name": "Python 3 (ipykernel)",
   "language": "python",
   "name": "python3"
  },
  "language_info": {
   "codemirror_mode": {
    "name": "ipython",
    "version": 3
   },
   "file_extension": ".py",
   "mimetype": "text/x-python",
   "name": "python",
   "nbconvert_exporter": "python",
   "pygments_lexer": "ipython3",
   "version": "3.9.13"
  }
 },
 "nbformat": 4,
 "nbformat_minor": 5
}
